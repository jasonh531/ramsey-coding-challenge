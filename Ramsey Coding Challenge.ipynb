{
 "cells": [
  {
   "cell_type": "code",
   "execution_count": 1,
   "metadata": {},
   "outputs": [
    {
     "name": "stdout",
     "output_type": "stream",
     "text": [
      "Line 1: 1\n",
      "Line 2: 2\n",
      "Line 3: 3\n",
      "Line 4: 4\n",
      "Line 5: 5\n"
     ]
    }
   ],
   "source": [
    "#filename = 'C:\\\\Users\\\\jason\\\\codingchallenge\\\\input\\\\test.txt'\n",
    "filename = 'input/test.txt'\n",
    "#ifile = open(filename,'r')\n",
    "\n",
    "with open(filename,'r') as fp:  \n",
    "   line = fp.readline()\n",
    "   cnt = 1\n",
    "   while line:\n",
    "       print(\"Line {}: {}\".format(cnt, line.strip()))\n",
    "       line = fp.readline()\n",
    "       cnt += 1\n",
    "    "
   ]
  },
  {
   "cell_type": "code",
   "execution_count": 6,
   "metadata": {},
   "outputs": [],
   "source": [
    "outfile='output/newfile.txt'\n",
    "\n",
    "with open(outfile,'w') as ofile:\n",
    "    ofile.write('test3')\n",
    "    "
   ]
  },
  {
   "cell_type": "code",
   "execution_count": 2,
   "metadata": {},
   "outputs": [
    {
     "name": "stdout",
     "output_type": "stream",
     "text": [
      "Line 1: Rejected\n",
      "Line 2: Rejected\n",
      "Line 3: 12, 2, 5, 'milk'\n",
      "Chocs: {'white': 0, 'dark': 0, 'milk': 6.0, 'sugar free': 0}\n",
      "Bonus_type: milk\n",
      "Chocs: {'white': 0, 'dark': 0, 'milk': 6.0, 'sugar free': 0}\n",
      "Bonus: {'white': 0, 'dark': 0, 'milk': 1, 'sugar free': 1}\n",
      "Wrappers: {'white': 0, 'dark': 0, 'milk': 1.0, 'sugar free': 0}\n",
      "Line 4: 12, 4, 4, 'dark'\n",
      "Chocs: {'white': 0, 'dark': 3.0, 'milk': 0, 'sugar free': 0}\n",
      "Line 5: 6, 2, 2, 'sugar free'\n",
      "Chocs: {'white': 0, 'dark': 0, 'milk': 0, 'sugar free': 3.0}\n",
      "Bonus_type: sugar free\n",
      "Chocs: {'white': 0, 'dark': 0, 'milk': 0, 'sugar free': 3.0}\n",
      "Bonus: {'white': 0, 'dark': 1, 'milk': 0, 'sugar free': 1}\n",
      "Wrappers: {'white': 0, 'dark': 0, 'milk': 0, 'sugar free': 1.0}\n",
      "Bonus_type: sugar free\n",
      "Chocs: {'white': 0, 'dark': 1, 'milk': 0, 'sugar free': 4.0}\n",
      "Bonus: {'white': 0, 'dark': 1, 'milk': 0, 'sugar free': 1}\n",
      "Wrappers: {'white': 0, 'dark': 1, 'milk': 0, 'sugar free': 0.0}\n",
      "Bonus_type: dark\n",
      "Chocs: {'white': 0, 'dark': 2, 'milk': 0, 'sugar free': 5.0}\n",
      "Bonus: {'white': 0, 'dark': 1, 'milk': 0, 'sugar free': 0}\n",
      "Wrappers: {'white': 0, 'dark': 0.0, 'milk': 0, 'sugar free': 1.0}\n",
      "Line 6: 6, 2, 2, 'white'\n",
      "Chocs: {'white': 3.0, 'dark': 0, 'milk': 0, 'sugar free': 0}\n",
      "Bonus_type: white\n",
      "Chocs: {'white': 3.0, 'dark': 0, 'milk': 0, 'sugar free': 0}\n",
      "Bonus: {'white': 1, 'dark': 0, 'milk': 0, 'sugar free': 1}\n",
      "Wrappers: {'white': 1.0, 'dark': 0, 'milk': 0, 'sugar free': 0}\n",
      "Bonus_type: white\n",
      "Chocs: {'white': 4.0, 'dark': 0, 'milk': 0, 'sugar free': 1}\n",
      "Bonus: {'white': 1, 'dark': 0, 'milk': 0, 'sugar free': 1}\n",
      "Wrappers: {'white': 0.0, 'dark': 0, 'milk': 0, 'sugar free': 1}\n",
      "Bonus_type: sugar free\n",
      "Chocs: {'white': 5.0, 'dark': 0, 'milk': 0, 'sugar free': 2}\n",
      "Bonus: {'white': 0, 'dark': 1, 'milk': 0, 'sugar free': 1}\n",
      "Wrappers: {'white': 1.0, 'dark': 0, 'milk': 0, 'sugar free': 0.0}\n"
     ]
    }
   ],
   "source": [
    "import re\n",
    "\n",
    "filename = 'input/orders.txt'\n",
    "testexp='^\\s*([0-9]+)\\s*,\\s*([0-9]+)\\s*,\\s*([0-9]+)\\s*,\\s*\\'([\\w\\s]+\\w*)\\'$'\n",
    "\n",
    "bonus =  {      'white': {'white': 1, 'dark': 0, 'milk': 0, 'sugar free': 1},\n",
    "                 'dark': {'white': 0, 'dark': 1, 'milk': 0, 'sugar free': 0},\n",
    "                 'milk': {'white': 0, 'dark': 0, 'milk': 1, 'sugar free': 1},\n",
    "           'sugar free': {'white': 0, 'dark': 1, 'milk': 0, 'sugar free': 1}}\n",
    "\n",
    "with open(filename,'r') as fp:  \n",
    "    line = fp.readline()\n",
    "    cnt = 1\n",
    "    while line:\n",
    "        chocs = {'white': 0, 'dark': 0, 'milk': 0, 'sugar free': 0}\n",
    "        z = re.match(testexp, line)\n",
    "        if z:\n",
    "            print(\"Line {}: {}\".format(cnt, line.strip()))\n",
    "            type_bought = z[4]\n",
    "            wrappers_needed = float(z[3])\n",
    "            chocs[type_bought] = float(z[1])/float(z[2])\n",
    "            print(\"Chocs:\",chocs)\n",
    "            wrappers = dict(chocs)\n",
    "            while any(w>=wrappers_needed for w in wrappers.values()):\n",
    "                for i in ([wrap_type  for (wrap_type, qty) in wrappers.items() if qty >= wrappers_needed]):\n",
    "                    print(\"Bonus_type:\",i)\n",
    "                    wrappers[i] -= wrappers_needed\n",
    "                    print(\"Chocs:\",chocs)\n",
    "                    print(\"Bonus:\",bonus[i])\n",
    "                    print(\"Wrappers:\",wrappers)\n",
    "                    for key in bonus[i]:\n",
    "                        chocs[key] += bonus[i][key]\n",
    "                        wrappers[key] += bonus[i][key]\n",
    "        else:\n",
    "            print(\"Line {}: {}\".format(cnt, \"Rejected\"))\n",
    "        line = fp.readline()\n",
    "        cnt += 1"
   ]
  },
  {
   "cell_type": "code",
   "execution_count": 2,
   "metadata": {},
   "outputs": [
    {
     "ename": "NameError",
     "evalue": "name 'chocs' is not defined",
     "output_type": "error",
     "traceback": [
      "\u001b[1;31m---------------------------------------------------------------------------\u001b[0m",
      "\u001b[1;31mNameError\u001b[0m                                 Traceback (most recent call last)",
      "\u001b[1;32m<ipython-input-2-472b6d34ecad>\u001b[0m in \u001b[0;36m<module>\u001b[1;34m()\u001b[0m\n\u001b[1;32m----> 1\u001b[1;33m \u001b[0mprint\u001b[0m\u001b[1;33m(\u001b[0m\u001b[0mchocs\u001b[0m\u001b[1;33m)\u001b[0m\u001b[1;33m\u001b[0m\u001b[0m\n\u001b[0m",
      "\u001b[1;31mNameError\u001b[0m: name 'chocs' is not defined"
     ]
    }
   ],
   "source": [
    "print(chocs)"
   ]
  },
  {
   "cell_type": "code",
   "execution_count": 24,
   "metadata": {},
   "outputs": [
    {
     "name": "stdout",
     "output_type": "stream",
     "text": [
      "{'white': 3.0, 'dark': 0, 'milk': 0, 'sugar free': 0}\n",
      "2\n"
     ]
    }
   ],
   "source": [
    "print(chocs)\n",
    "print(wrappers_needed)"
   ]
  },
  {
   "cell_type": "code",
   "execution_count": 25,
   "metadata": {},
   "outputs": [
    {
     "data": {
      "text/plain": [
       "True"
      ]
     },
     "execution_count": 25,
     "metadata": {},
     "output_type": "execute_result"
    }
   ],
   "source": [
    "any(w>=wrappers_needed for w in wrappers.values())"
   ]
  },
  {
   "cell_type": "code",
   "execution_count": 10,
   "metadata": {},
   "outputs": [
    {
     "data": {
      "text/plain": [
       "{'white': 1, 'dark': 0, 'milk': 0, 'sugar free': 1}"
      ]
     },
     "execution_count": 10,
     "metadata": {},
     "output_type": "execute_result"
    }
   ],
   "source": [
    "bonus['milk']"
   ]
  },
  {
   "cell_type": "code",
   "execution_count": 12,
   "metadata": {},
   "outputs": [
    {
     "data": {
      "text/plain": [
       "1"
      ]
     },
     "execution_count": 12,
     "metadata": {},
     "output_type": "execute_result"
    }
   ],
   "source": [
    "bonus['milk']['white']"
   ]
  },
  {
   "cell_type": "code",
   "execution_count": null,
   "metadata": {},
   "outputs": [],
   "source": []
  }
 ],
 "metadata": {
  "kernelspec": {
   "display_name": "Python 3",
   "language": "python",
   "name": "python3"
  },
  "language_info": {
   "codemirror_mode": {
    "name": "ipython",
    "version": 3
   },
   "file_extension": ".py",
   "mimetype": "text/x-python",
   "name": "python",
   "nbconvert_exporter": "python",
   "pygments_lexer": "ipython3",
   "version": "3.7.0"
  }
 },
 "nbformat": 4,
 "nbformat_minor": 2
}
