{
  "cells": [
    {
      "metadata": {
        "trusted": true
      },
      "cell_type": "code",
      "source": "import re\nimport logging\n\n#Set debugging level\n#Levels are CRITICAL, ERROR, WARNING, INFO, and DEBUG, \n#from least to most verbose\nlogging.basicConfig(format='%(asctime)s - %(levelname)s - %(message)s')\nlogger = logging.getLogger()\nlogger.setLevel(logging.CRITICAL) \n\n#Paths for input/output files\nordersFile = 'input/orders.txt'\noutputFile = 'output/output.txt'\n\n#Regular expression for properly-formatted order lines\nordersRegEx='^\\s*([0-9]+)\\s*,\\s*([0-9]+)\\s*,\\s*([0-9]+)\\s*,\\s*\\'([\\w\\s]+\\w*)\\'$'\n\n#Current bonus promotion -- easy to change in the future\nbonus =  {       'milk': {'milk': 1, 'dark': 0, 'white': 0, 'sugar free': 1},\n                 'dark': {'milk': 0, 'dark': 1, 'white': 0, 'sugar free': 0},\n                'white': {'milk': 0, 'dark': 0, 'white': 1, 'sugar free': 1},\n           'sugar free': {'milk': 0, 'dark': 1, 'white': 0, 'sugar free': 1}}\n\ntry:\n    with open(ordersFile,'r') as orders, open(outputFile,'w') as output:  \n        line = orders.readline()\n        cnt = 1\n        while line:\n            chocolates = {'milk': 0, 'dark': 0, 'white': 0, 'sugar free': 0}\n            parsedLine = re.match(ordersRegEx, line)\n            if parsedLine: #Lines which do not match regex will be ignored\n                logger.debug(\"Line {}: {}\".format(cnt, line.strip()))\n                type_bought = parsedLine[4]\n                wrappers_needed = int(parsedLine[3])\n                chocolates[type_bought] = int(int(parsedLine[1])/int(parsedLine[2]))\n                logger.info(\"Initial Purchase: {}\\nWrappers needed for bonus: {}\".format(chocolates,wrappers_needed))\n                wrappers = dict(chocolates) #Copy chocolates to wrappers\n                while any(w>=wrappers_needed for w in wrappers.values()): #Still have enough wrappers for bonus\n                    for bonus_type in ([wrap_type  for (wrap_type, qty) in wrappers.items() if qty >= wrappers_needed]):\n                        logger.debug(\"Bonus_type: {}\".format(bonus_type))\n                        logger.debug(\"Bonus: {}\".format(bonus[bonus_type]))\n                        wrappers[bonus_type] -= wrappers_needed #Remove redeemed wrappers from stash\n                        for choc_type in bonus[bonus_type]:\n                            chocolates[choc_type] += bonus[bonus_type][choc_type]\n                            wrappers[choc_type] += bonus[bonus_type][choc_type] \n                        logger.debug(\"New Chocolates: {}\".format(chocolates))\n                        logger.debug(\"New Wrappers: {}\".format(wrappers))\n                # Not enough wrappers left to exchange\n                logger.debug(\"Final Wrappers: {}\".format(wrappers))\n                logger.info(\"Final Chocolates: {}\".format(chocolates))\n                output.write('milk {c[milk]}, dark {c[dark]}, white {c[white]}, sugar free {c[sugar free]}\\n'.format(c=chocolates))\n            else:\n                logger.info(\"Line {}: {}\".format(cnt, \"Rejected\"))\n            line = orders.readline()\n            cnt += 1\n    print(\"Output written to {}.\".format(outputFile))\nexcept:\n    logger.critical(\"File error!  Please check paths for input and output files.\")\n        ",
      "execution_count": 3,
      "outputs": [
        {
          "output_type": "stream",
          "text": "Output written to output/output.txt.\n",
          "name": "stdout"
        }
      ]
    }
  ],
  "metadata": {
    "kernelspec": {
      "name": "python36",
      "display_name": "Python 3.6",
      "language": "python"
    },
    "language_info": {
      "mimetype": "text/x-python",
      "nbconvert_exporter": "python",
      "name": "python",
      "pygments_lexer": "ipython3",
      "version": "3.6.6",
      "file_extension": ".py",
      "codemirror_mode": {
        "version": 3,
        "name": "ipython"
      }
    }
  },
  "nbformat": 4,
  "nbformat_minor": 2
}